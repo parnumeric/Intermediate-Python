{
  "nbformat": 4,
  "nbformat_minor": 0,
  "metadata": {
    "colab": {
      "provenance": []
    },
    "kernelspec": {
      "name": "python3",
      "display_name": "Python 3"
    },
    "language_info": {
      "name": "python"
    }
  },
  "cells": [
    {
      "cell_type": "markdown",
      "source": [
        "# Intermediate Python - exercises"
      ],
      "metadata": {
        "id": "cNkS6Vg_HOVX"
      }
    },
    {
      "cell_type": "markdown",
      "source": [
        "## Part 1\n",
        "Control flow, functions, list comprehension, conditional assignment."
      ],
      "metadata": {
        "id": "ZqUxlJpxJQrr"
      }
    },
    {
      "cell_type": "markdown",
      "source": [
        "### `for`, `break` and `continue`"
      ],
      "metadata": {
        "id": "Nzp6XeNoKOCF"
      }
    },
    {
      "cell_type": "markdown",
      "source": [
        "Place a `break` statement in the `for` loop to modify **control flow** so that it prints from 0 to 7 only (including 7). Give some thought to how a `continue` statement would lead to different behaviour."
      ],
      "metadata": {
        "id": "vsp1cGcuNpmx"
      }
    },
    {
      "cell_type": "code",
      "execution_count": null,
      "metadata": {
        "id": "serious-blanket"
      },
      "outputs": [],
      "source": [
        "for i in range(50):\n",
        "    # Add code here\n",
        "    print(i)"
      ]
    },
    {
      "cell_type": "markdown",
      "source": [
        "### Functions with lists"
      ],
      "metadata": {
        "id": "cGhfoEqwNy5Q"
      }
    },
    {
      "cell_type": "markdown",
      "metadata": {
        "id": "weighted-interface"
      },
      "source": [
        "Define a **function** that takes a list of integers as an argument, squares each element in that list and returns the list:"
      ]
    },
    {
      "cell_type": "code",
      "execution_count": null,
      "metadata": {
        "id": "organizational-hobby"
      },
      "outputs": [],
      "source": [
        "def squaring(number_list):\n",
        "  pass # Currently does nothing\n",
        "  # Remove the line above and add your own code here"
      ]
    },
    {
      "cell_type": "markdown",
      "source": [
        "Initialise a list with a call to the squaring function"
      ],
      "metadata": {
        "id": "kypn0PdaON5p"
      }
    },
    {
      "cell_type": "code",
      "execution_count": null,
      "metadata": {
        "id": "annoying-planning"
      },
      "outputs": [],
      "source": [
        "exponential_curve = # call squaring with our list [1, 2, 3, 4, 5] as an argument\n",
        "\n",
        "print(exponential_curve)"
      ]
    },
    {
      "cell_type": "markdown",
      "source": [
        "### Functions with variable number of arguments"
      ],
      "metadata": {
        "id": "H8Z-OqFfOxzP"
      }
    },
    {
      "cell_type": "markdown",
      "source": [
        "Write a **function** called `print_names` that accepts a variable number of arguments. It should print the strings it receives as arguments:"
      ],
      "metadata": {
        "id": "GYCvQ852PE0X"
      }
    },
    {
      "cell_type": "code",
      "execution_count": null,
      "metadata": {
        "id": "dietary-shape"
      },
      "outputs": [],
      "source": [
        "# Define the function print_names() here:\n",
        "\n",
        "\n",
        "# Function calls to your implementation:\n",
        "print_names(\"Python\", \"C++\", \"Java\", \"R\")\n",
        "print()\n",
        "print_names(\"Ruby\")"
      ]
    },
    {
      "cell_type": "markdown",
      "source": [
        "### List comprehension"
      ],
      "metadata": {
        "id": "mwcAyO7qPTfL"
      }
    },
    {
      "cell_type": "markdown",
      "metadata": {
        "id": "alive-geneva"
      },
      "source": [
        "Use **list comprehension** to generate a list of the first 10 multiples of five:"
      ]
    },
    {
      "cell_type": "code",
      "execution_count": null,
      "metadata": {
        "id": "accompanied-neighborhood"
      },
      "outputs": [],
      "source": [
        "multiples_of_five = # Add code here\n",
        "print(multiples_of_five)"
      ]
    },
    {
      "cell_type": "markdown",
      "source": [
        "### Conditional assignment with ternary expression"
      ],
      "metadata": {
        "id": "Cm_sLppRpJIo"
      }
    },
    {
      "cell_type": "markdown",
      "source": [
        "Write a **function** called `isMultipleOfFive` which determines whether the argument `n` is one of the first 10 multiples of five or not:\n",
        "\n",
        "(*hint: use **ternary expression** with the previously created list `multiples_of_five`*)\n",
        "\n"
      ],
      "metadata": {
        "id": "jtZwvNDlmpNK"
      }
    },
    {
      "cell_type": "code",
      "source": [
        "def isMultipleOfFive(n):\n",
        "  # Add code here\n",
        "\n",
        "print(f'Is 3 multiple of 5? {isMultipleOfFive(3)}')\n",
        "print(f'Is 15 multiple of 5? {isMultipleOfFive(15)}')"
      ],
      "metadata": {
        "id": "EZcZALcxocp7"
      },
      "execution_count": null,
      "outputs": []
    },
    {
      "cell_type": "markdown",
      "source": [
        "## Part 2\n",
        "List slicing, lambdas, strings."
      ],
      "metadata": {
        "id": "0hLxiAkVllhz"
      }
    },
    {
      "cell_type": "markdown",
      "metadata": {
        "id": "ancient-annex"
      },
      "source": [
        "### List slicing:\n",
        "\n",
        "Use **slicing** to access:\n",
        "\n",
        "    1) The last element of alphabet\n",
        "\n",
        "    2) The last two elements of alphabet\n",
        "\n",
        "    3) Everything but the last to elements of alphabet\n",
        "\n",
        "    4) Every other letter of alphabet\n",
        "\n",
        "Check you've got it right with a print statement"
      ]
    },
    {
      "cell_type": "code",
      "execution_count": null,
      "metadata": {
        "id": "incomplete-bruce"
      },
      "outputs": [],
      "source": [
        "alphabet = ['a', 'b', 'c', 'd', 'e', 'f', 'g', 'h', 'i', 'j']\n",
        "# write your print statements here\n"
      ]
    },
    {
      "cell_type": "markdown",
      "source": [
        "### Lambdas"
      ],
      "metadata": {
        "id": "7prTZVEYwoRE"
      }
    },
    {
      "cell_type": "markdown",
      "metadata": {
        "id": "attended-clinton"
      },
      "source": [
        "Write a **lambda** function which takes an integer as a parameter and returns the value of the integer times 11.\n",
        "\n",
        "Assign the lambda to the variable named: f."
      ]
    },
    {
      "cell_type": "code",
      "execution_count": null,
      "metadata": {
        "id": "french-gasoline"
      },
      "outputs": [],
      "source": [
        "i = 9\n",
        "\n",
        "f = # write your lambda here\n",
        "\n",
        "print(f(i))"
      ]
    },
    {
      "cell_type": "markdown",
      "metadata": {
        "id": "intelligent-ground"
      },
      "source": [
        "Using a **filter** function and a **lambda**, extract only the animals beginning with 'A' from list *L* into *L2*"
      ]
    },
    {
      "cell_type": "code",
      "execution_count": null,
      "metadata": {
        "id": "acknowledged-texture"
      },
      "outputs": [],
      "source": [
        "L = ['Kingfisher', 'Ant', 'Antelope', 'Lion']\n",
        "\n",
        "L2 =\n",
        "print(L2)"
      ]
    },
    {
      "cell_type": "markdown",
      "metadata": {
        "id": "selective-neighborhood"
      },
      "source": [
        "### Strings:"
      ]
    },
    {
      "cell_type": "markdown",
      "metadata": {
        "id": "seven-semester"
      },
      "source": [
        "Clean the following **string** by:\n",
        "\n",
        "    1) Correcting capitalistion\n",
        "\n",
        "    2) removing the % symbols\n",
        "\n",
        "    3) replacing the double spaces with single spaces\n",
        "\n",
        "    4) removing the word 'GOOD' that shouldn't be there\n"
      ]
    },
    {
      "cell_type": "code",
      "execution_count": null,
      "metadata": {
        "id": "relative-morning"
      },
      "outputs": [],
      "source": [
        "raw_string = \"i aM GOOD the most inTeRESTING  sent%%%en%%ce yOu wi%%%ll ever  ReaD!\"\n",
        "\n",
        "cleaned_string =\n",
        "print(cleaned_string)"
      ]
    },
    {
      "cell_type": "markdown",
      "metadata": {
        "id": "noble-soundtrack"
      },
      "source": [
        "Split the Haiku into separate lines (you may have to read the documentation to work out how to do this). Print each line, preceded with a line number."
      ]
    },
    {
      "cell_type": "code",
      "execution_count": null,
      "metadata": {
        "id": "serious-sunglasses"
      },
      "outputs": [],
      "source": [
        "haiku = \"\"\"matsushima-ya\n",
        "aah matsushima-ya\n",
        "matsushima-ya\"\"\"\n",
        "\n"
      ]
    },
    {
      "cell_type": "markdown",
      "source": [
        "## Part 3\n",
        "\n",
        "Modules, data structures, classes"
      ],
      "metadata": {
        "id": "tFMmF7ZOwRRw"
      }
    },
    {
      "cell_type": "markdown",
      "metadata": {
        "id": "favorite-stockholm"
      },
      "source": [
        "### Modules"
      ]
    },
    {
      "cell_type": "markdown",
      "metadata": {
        "id": "copyrighted-abuse"
      },
      "source": [
        "Try importing the **math** module explicitly."
      ]
    },
    {
      "cell_type": "code",
      "execution_count": null,
      "metadata": {
        "id": "given-contract"
      },
      "outputs": [],
      "source": []
    },
    {
      "cell_type": "markdown",
      "metadata": {
        "id": "employed-matter"
      },
      "source": [
        "Using the **math** module, calculate the area of a circle with diameter of 4cm."
      ]
    },
    {
      "cell_type": "code",
      "execution_count": null,
      "metadata": {
        "id": "incorporated-field"
      },
      "outputs": [],
      "source": []
    },
    {
      "cell_type": "markdown",
      "metadata": {
        "id": "extraordinary-detroit"
      },
      "source": [
        "Print 100 random numbers (module: **random**)"
      ]
    },
    {
      "cell_type": "code",
      "execution_count": null,
      "metadata": {
        "id": "split-sharing"
      },
      "outputs": [],
      "source": []
    },
    {
      "cell_type": "markdown",
      "metadata": {
        "id": "adjacent-shoulder"
      },
      "source": [
        "Try iterating over all the files in a folder on your computer (module: **os**); print content of files that have a `.txt` extension."
      ]
    },
    {
      "cell_type": "code",
      "execution_count": null,
      "metadata": {
        "id": "blond-swiss"
      },
      "outputs": [],
      "source": []
    },
    {
      "cell_type": "markdown",
      "metadata": {
        "id": "digital-thriller"
      },
      "source": [
        "Assume an x axis of range 0 to 10 with intervals of size 0.1; print the cosine of each point on the x axis."
      ]
    },
    {
      "cell_type": "code",
      "execution_count": null,
      "metadata": {
        "id": "regional-question"
      },
      "outputs": [],
      "source": []
    },
    {
      "cell_type": "markdown",
      "metadata": {
        "id": "billion-castle"
      },
      "source": [
        "### Data structures"
      ]
    },
    {
      "cell_type": "markdown",
      "metadata": {
        "id": "powerful-blame"
      },
      "source": [
        "Using the **dict** below:\n",
        "\n",
        "    1) Print the number of students enrolled in Biology\n",
        "    2) Print the names of courses where more than 80 students are enrolled"
      ]
    },
    {
      "cell_type": "code",
      "execution_count": null,
      "metadata": {
        "id": "everyday-calculation"
      },
      "outputs": [],
      "source": [
        "# A mapping of subject to number of students enrolled\n",
        "subject_dict = {\n",
        "    'Geography': 73,\n",
        "    'History': 60,\n",
        "    'Biology': 115,\n",
        "    'chemistry': 100,\n",
        "}\n",
        "\n"
      ]
    },
    {
      "cell_type": "markdown",
      "metadata": {
        "id": "royal-testament"
      },
      "source": [
        "Add a start_date field to our **namedtuple** so the code below runs"
      ]
    },
    {
      "cell_type": "code",
      "execution_count": null,
      "metadata": {
        "id": "turkish-bulgaria"
      },
      "outputs": [],
      "source": [
        "from collections import namedtuple\n",
        "\n",
        "NINumber = namedtuple('national_insurance_number', 'name NI')\n",
        "employee_data = NINumber('Simon', '12345678')\n",
        "print(f'Employee {employee_data.name} ({employee_data.start_date}) has NI: {employee_data.NI}')"
      ]
    },
    {
      "cell_type": "markdown",
      "metadata": {
        "id": "forced-count"
      },
      "source": [
        "### Classes"
      ]
    },
    {
      "cell_type": "markdown",
      "metadata": {
        "id": "upper-tsunami"
      },
      "source": [
        "Add an `__init__()` function to the class below that initialises this class with a bus number plate and a mileage:"
      ]
    },
    {
      "cell_type": "code",
      "execution_count": null,
      "metadata": {
        "id": "greatest-brief"
      },
      "outputs": [],
      "source": [
        "class Bus:\n",
        "\n",
        "    def get_bus_number(self):\n",
        "        return self.bus_number\n",
        "\n",
        "bus_1 = Bus(bus_number=337, mileage=83000)\n",
        "bus_2 = Bus(bus_number=493, mileage=40000)\n",
        "\n",
        "print(bus_1.get_bus_number())\n"
      ]
    },
    {
      "cell_type": "markdown",
      "metadata": {
        "id": "atomic-jacket"
      },
      "source": [
        "Add a member function to the above class, Bus, that can change the bus_number. You will need to rerun the cell above once you have made changes."
      ]
    },
    {
      "cell_type": "code",
      "execution_count": null,
      "metadata": {
        "id": "concerned-occasion"
      },
      "outputs": [],
      "source": [
        "bus_1.change_route(533)\n",
        "\n",
        "print(bus_1.get_bus_number())"
      ]
    }
  ]
}